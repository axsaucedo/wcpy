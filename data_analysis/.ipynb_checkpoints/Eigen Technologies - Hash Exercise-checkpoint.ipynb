{
 "cells": [
  {
   "cell_type": "code",
   "execution_count": 22,
   "metadata": {
    "collapsed": true
   },
   "outputs": [],
   "source": [
    "import os, sys, string"
   ]
  },
  {
   "cell_type": "code",
   "execution_count": 14,
   "metadata": {
    "collapsed": false
   },
   "outputs": [
    {
     "data": {
      "text/plain": [
       "['doc1.txt', 'doc2.txt', 'doc3.txt', 'doc4.txt', 'doc5.txt', 'doc6.txt']"
      ]
     },
     "execution_count": 14,
     "metadata": {},
     "output_type": "execute_result"
    }
   ],
   "source": [
    "data_dir = \"../test_data\"\n",
    "\n",
    "data_files = os.listdir(data_dir)\n",
    "data_files"
   ]
  },
  {
   "cell_type": "code",
   "execution_count": 18,
   "metadata": {
    "collapsed": false
   },
   "outputs": [
    {
     "name": "stdout",
     "output_type": "stream",
     "text": [
      "file: doc1.txt\n",
      "lines: 46\n",
      "file: doc2.txt\n",
      "lines: 88\n",
      "file: doc3.txt\n",
      "lines: 77\n",
      "file: doc4.txt\n",
      "lines: 53\n",
      "file: doc5.txt\n",
      "lines: 56\n",
      "file: doc6.txt\n",
      "lines: 46\n",
      "AVERAGE LINE NUMBER: 61.0\n"
     ]
    }
   ],
   "source": [
    "all_line_numbers = []\n",
    "                                 \n",
    "for file_name in data_files:\n",
    "    print(\"file:\", file_name)\n",
    "    file_path = os.path.join(data_dir, file_name)\n",
    "        \n",
    "    n_lines = 0\n",
    "     \n",
    "    with open(file_path) as file:\n",
    "        for line in file:\n",
    "            n_lines += 1\n",
    "            \n",
    "        print(\"lines:\", n_lines)\n",
    "        all_line_numbers.append(n_lines)\n",
    "\n",
    "print(\"AVERAGE LINE NUMBER:\", sum(all_line_numbers)/len(all_line_numbers))"
   ]
  },
  {
   "cell_type": "code",
   "execution_count": 19,
   "metadata": {
    "collapsed": false
   },
   "outputs": [
    {
     "name": "stdout",
     "output_type": "stream",
     "text": [
      "ALL SYMBOLS FOUND: {':', '%', '-', ',', '?', '\"', '$', '/', ';', '!', \"'\", '.'}\n"
     ]
    }
   ],
   "source": [
    "found_symbols = set()\n",
    "all_symbols = set(string.punctuation)\n",
    "\n",
    "all_line_numbers = []\n",
    "                                 \n",
    "for file_name in data_files:\n",
    "    file_path = os.path.join(data_dir, file_name)\n",
    "     \n",
    "    with open(file_path) as file:\n",
    "        for line in file:\n",
    "            for char in line:\n",
    "                if char in all_symbols:\n",
    "                    if char not in found_symbols:\n",
    "                        found_symbols.add(char)\n",
    "\n",
    "print(\"ALL SYMBOLS FOUND:\", found_symbols)"
   ]
  },
  {
   "cell_type": "code",
   "execution_count": 23,
   "metadata": {
    "collapsed": false
   },
   "outputs": [
    {
     "ename": "AttributeError",
     "evalue": "module 'sys' has no attribute 'minsize'",
     "output_type": "error",
     "traceback": [
      "\u001b[0;31m---------------------------------------------------------------------------\u001b[0m",
      "\u001b[0;31mAttributeError\u001b[0m                            Traceback (most recent call last)",
      "\u001b[0;32m<ipython-input-23-d1c56a240f80>\u001b[0m in \u001b[0;36m<module>\u001b[0;34m()\u001b[0m\n\u001b[1;32m      4\u001b[0m \u001b[0mtotal_sentence_length\u001b[0m \u001b[0;34m=\u001b[0m \u001b[0;36m0\u001b[0m\u001b[0;34m\u001b[0m\u001b[0m\n\u001b[1;32m      5\u001b[0m \u001b[0mtotal_sentences\u001b[0m \u001b[0;34m=\u001b[0m \u001b[0;36m0\u001b[0m\u001b[0;34m\u001b[0m\u001b[0m\n\u001b[0;32m----> 6\u001b[0;31m \u001b[0mmax_sentence_length\u001b[0m \u001b[0;34m=\u001b[0m \u001b[0msys\u001b[0m\u001b[0;34m.\u001b[0m\u001b[0mminsize\u001b[0m\u001b[0;34m\u001b[0m\u001b[0m\n\u001b[0m\u001b[1;32m      7\u001b[0m \u001b[0mmin_sentence_length\u001b[0m \u001b[0;34m=\u001b[0m \u001b[0msys\u001b[0m\u001b[0;34m.\u001b[0m\u001b[0mmaxsize\u001b[0m\u001b[0;34m\u001b[0m\u001b[0m\n\u001b[1;32m      8\u001b[0m \u001b[0;34m\u001b[0m\u001b[0m\n",
      "\u001b[0;31mAttributeError\u001b[0m: module 'sys' has no attribute 'minsize'"
     ]
    }
   ],
   "source": [
    "found_symbols = set()\n",
    "all_symbols = set(string.punctuation)\n",
    "\n",
    "total_sentence_length = 0\n",
    "total_sentences = 0\n",
    "max_sentence_length = 0\n",
    "min_sentence_length = sys.maxsize\n",
    "                                 \n",
    "for file_name in data_files:\n",
    "    file_path = os.path.join(data_dir, file_name)\n",
    "     \n",
    "    with open(file_path) as file:\n",
    "        for line in file:\n",
    "            sentence_length = len(line)\n",
    "            \n",
    "            total_sentences += 1\n",
    "            total_sentence_length += sentence_length\n",
    "            \n",
    "            if sentence_length > max_sentence_length:\n",
    "                max_sentence_length = sentence_length\n",
    "                \n",
    "            if sentence_length < min_sentence_length:\n",
    "                min_sentence_length = sentence_length\n",
    "\n",
    "print(\"Average Sentence Length:\", total_sentence_length / total_sentences)\n",
    "print(\"Max sentence length:\", max_sentence_length)\n",
    "print(\"Min sentence length:\", min_sentence_length)"
   ]
  },
  {
   "cell_type": "code",
   "execution_count": null,
   "metadata": {
    "collapsed": true
   },
   "outputs": [],
   "source": []
  }
 ],
 "metadata": {
  "kernelspec": {
   "display_name": "Python 3",
   "language": "python",
   "name": "python3"
  },
  "language_info": {
   "codemirror_mode": {
    "name": "ipython",
    "version": 3
   },
   "file_extension": ".py",
   "mimetype": "text/x-python",
   "name": "python",
   "nbconvert_exporter": "python",
   "pygments_lexer": "ipython3",
   "version": "3.6.0"
  }
 },
 "nbformat": 4,
 "nbformat_minor": 2
}
